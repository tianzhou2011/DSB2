{
 "cells": [
  {
   "cell_type": "code",
   "execution_count": 1,
   "metadata": {
    "collapsed": true
   },
   "outputs": [],
   "source": [
    "FN = '160306-patient'"
   ]
  },
  {
   "cell_type": "code",
   "execution_count": 2,
   "metadata": {
    "collapsed": false
   },
   "outputs": [],
   "source": [
    "import re\n",
    "import os\n",
    "import dicom\n",
    "import numpy as np\n",
    "from collections import Counter\n",
    "from itertools import chain, izip\n",
    "import matplotlib.pyplot as plt\n",
    "%matplotlib inline\n",
    "import pandas as pd\n",
    "from joblib import Parallel, delayed\n",
    "import itertools"
   ]
  },
  {
   "cell_type": "code",
   "execution_count": 3,
   "metadata": {
    "collapsed": false
   },
   "outputs": [
    {
     "data": {
      "text/plain": [
       "(500, 200, 440)"
      ]
     },
     "execution_count": 3,
     "metadata": {},
     "output_type": "execute_result"
    }
   ],
   "source": [
    "from utils import Dataset, params, Nt, Nv, Ns, temp_dir, awscp\n",
    "Na = Nt+Nv+Ns\n",
    "Nt, Nv, Ns"
   ]
  },
  {
   "cell_type": "code",
   "execution_count": 4,
   "metadata": {
    "collapsed": false
   },
   "outputs": [],
   "source": [
    "def calc(s, prefix='sax'):\n",
    "    \"\"\"Read a study and return all its meta info\"\"\"\n",
    "    dset = Dataset(s, prefix=prefix)\n",
    "    dset.load()\n",
    "    if len(dset.images):\n",
    "        imagedata = (dset.images.shape, dset.images.mean(), dset.images.std(), dset.images.max())\n",
    "    else:\n",
    "        imagedata = (dset.images.shape, np.nan, np.nan, np.nan)\n",
    "    dset.images = None # free memory\n",
    "    dset.dicoms = None\n",
    "    return s, imagedata, dset"
   ]
  },
  {
   "cell_type": "code",
   "execution_count": 5,
   "metadata": {
    "collapsed": false
   },
   "outputs": [],
   "source": [
    "patient = pd.read_csv(os.path.join(params['TRAIN_DATA_PATH'],'train.csv'), index_col='Id')\n",
    "assert len(patient) == Nt"
   ]
  },
  {
   "cell_type": "code",
   "execution_count": 6,
   "metadata": {
    "collapsed": false
   },
   "outputs": [],
   "source": [
    "try:\n",
    "    patient_val = pd.read_csv(os.path.join(params['VALID_DATA_PATH'],'validate.csv'), index_col='Id') \n",
    "    assert len(patient_val) == Nv\n",
    "    patient = pd.concat((patient, patient_val))\n",
    "    assert len(patient) == Nt + Nv\n",
    "except:\n",
    "    print \"No validation csv. Running stage I\""
   ]
  },
  {
   "cell_type": "markdown",
   "metadata": {},
   "source": [
    "Read information about patients from the DICOM files"
   ]
  },
  {
   "cell_type": "code",
   "execution_count": 7,
   "metadata": {
    "collapsed": false,
    "scrolled": false
   },
   "outputs": [
    {
     "name": "stderr",
     "output_type": "stream",
     "text": [
      "\r",
      "  0%|          | 0/36 [00:00<?, ?it/s]"
     ]
    },
    {
     "name": "stdout",
     "output_type": "stream",
     "text": [
      "sax\n"
     ]
    },
    {
     "name": "stderr",
     "output_type": "stream",
     "text": [
      "  0%|          | 0/36 [00:00<?, ?it/s]"
     ]
    },
    {
     "name": "stdout",
     "output_type": "stream",
     "text": [
      "2ch\n"
     ]
    },
    {
     "name": "stderr",
     "output_type": "stream",
     "text": [
      "  0%|          | 0/36 [00:00<?, ?it/s]"
     ]
    },
    {
     "name": "stdout",
     "output_type": "stream",
     "text": [
      "4ch\n"
     ]
    },
    {
     "name": "stderr",
     "output_type": "stream",
     "text": []
    }
   ],
   "source": [
    "import sys\n",
    "from tqdm import tqdm\n",
    "for prefix in ['sax','2ch','4ch']:\n",
    "    print prefix\n",
    "    res = []\n",
    "    for start in tqdm(range(0,Na,32)):\n",
    "        end = min(start+32, Na)\n",
    "        res0 = Parallel(n_jobs=-1)(delayed(calc)(s+1,prefix=prefix) for s in range(start,end))\n",
    "        res += res0\n",
    "    p = '_' + prefix\n",
    "    for s, imagedata, dset in res:\n",
    "        if getattr(dset,'PatientAge') is None:\n",
    "            continue\n",
    "        for t in ['PatientAge', 'PatientSex', 'PatientPosition', 'ImageOrientationPatient', 'area', 'dist', 'slice_location_range']:\n",
    "            x = getattr(dset,t)\n",
    "            try:\n",
    "                x = float(x)\n",
    "            except:\n",
    "                x = str(x)\n",
    "            patient.loc[s,t+p] = x\n",
    "        \n",
    "        shape, imagemean, imagestd, imagemax = imagedata\n",
    "        \n",
    "        patient.loc[s,'slices'+p] = shape[0]\n",
    "        patient.loc[s,'times'+p] = shape[1]\n",
    "        patient.loc[s,'width'+p] = shape[2]\n",
    "        patient.loc[s,'height'+p] = shape[3]\n",
    "        patient.loc[s,'imagemean'+p] = imagemean\n",
    "        patient.loc[s,'imagestd'+p] = imagestd\n",
    "        patient.loc[s,'imagemax'+p] = imagemax\n",
    "        \n",
    "        for t in ['TriggerTime', 'NominalInterval', 'RepetitionTime']:\n",
    "            meant = getattr(dset, 'mean' + t)\n",
    "            vart = getattr(dset, 'var' + t)\n",
    "            patient.loc[s,'meanmean'+t+p] = meant.mean()\n",
    "            patient.loc[s,'stdmean'+t+p] = meant.std()\n",
    "            patient.loc[s,'rangemean'+t+p] = meant.max() - meant.min()\n",
    "            patient.loc[s,'meanvar'+t+p] = vart.mean()\n",
    "            \n",
    "        if len(dset.shapes) > 1:\n",
    "            patient.loc[s,'shapes'+p] = str(dset.shapes)"
   ]
  },
  {
   "cell_type": "code",
   "execution_count": 8,
   "metadata": {
    "collapsed": false
   },
   "outputs": [],
   "source": [
    "fn = FN+'.pkl'\n",
    "patient.to_pickle(os.path.join(temp_dir, fn))"
   ]
  },
  {
   "cell_type": "code",
   "execution_count": 9,
   "metadata": {
    "collapsed": false
   },
   "outputs": [],
   "source": [
    "awscp(fn,upload=True)"
   ]
  },
  {
   "cell_type": "code",
   "execution_count": 10,
   "metadata": {
    "collapsed": false
   },
   "outputs": [
    {
     "data": {
      "text/plain": [
       "1"
      ]
     },
     "execution_count": 10,
     "metadata": {},
     "output_type": "execute_result"
    }
   ],
   "source": [
    "1"
   ]
  },
  {
   "cell_type": "code",
   "execution_count": null,
   "metadata": {
    "collapsed": true
   },
   "outputs": [],
   "source": []
  }
 ],
 "metadata": {
  "kernelspec": {
   "display_name": "Python 2",
   "language": "python",
   "name": "python2"
  },
  "language_info": {
   "codemirror_mode": {
    "name": "ipython",
    "version": 2
   },
   "file_extension": ".py",
   "mimetype": "text/x-python",
   "name": "python",
   "nbconvert_exporter": "python",
   "pygments_lexer": "ipython2",
   "version": "2.7.11"
  }
 },
 "nbformat": 4,
 "nbformat_minor": 0
}

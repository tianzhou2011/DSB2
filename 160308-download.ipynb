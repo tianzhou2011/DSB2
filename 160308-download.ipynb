{
 "cells": [
  {
   "cell_type": "code",
   "execution_count": null,
   "metadata": {
    "collapsed": true
   },
   "outputs": [],
   "source": [
    "!curl -L -b cookies.txt --cacert /etc/ssl/certs/ca-certificates.crt https://www.kaggle.com/c/second-annual-data-science-bowl/download/train.zip > data/train.zip\n",
    "!cd /vol1/data ; unzip train.zip"
   ]
  },
  {
   "cell_type": "code",
   "execution_count": null,
   "metadata": {
    "collapsed": true
   },
   "outputs": [],
   "source": [
    "!curl -L -b cookies.txt --cacert /etc/ssl/certs/ca-certificates.crt https://www.kaggle.com/c/second-annual-data-science-bowl/download/validate.zip > data/validate.zip\n",
    "!cd /vol1/data ; unzip validate.zip"
   ]
  },
  {
   "cell_type": "code",
   "execution_count": null,
   "metadata": {
    "collapsed": true
   },
   "outputs": [],
   "source": [
    "!curl -L -b cookies.txt --cacert /etc/ssl/certs/ca-certificates.crt https://www.kaggle.com/c/second-annual-data-science-bowl/download/test.zip > data/test.zip\n",
    "!cd /vol1/data ; unzip test.zip"
   ]
  },
  {
   "cell_type": "code",
   "execution_count": null,
   "metadata": {
    "collapsed": true
   },
   "outputs": [],
   "source": [
    "!curl -L -b cookies.txt --cacert /etc/ssl/certs/ca-certificates.crt https://www.kaggle.com/c/second-annual-data-science-bowl/download/validate.csv > /vol1/data/validate/validate.csv!curl -L -b cookies.txt --cacert /etc/ssl/certs/ca-certificates.crt https://www.kaggle.com/c/second-annual-data-science-bowl/download/train.csv.zip > /vol1/data/train/train.csv.zip\n",
    "!cd /vol1/data/train/ ; unzip train.csv.zip\n",
    "!curl -L -b cookies.txt --cacert /etc/ssl/certs/ca-certificates.crt https://www.kaggle.com/c/second-annual-data-science-bowl/download/validate.csv > /vol1/data/validate/validate.csv!curl -L -b cookies.txt --cacert /etc/ssl/certs/ca-certificates.crt https://www.kaggle.com/c/second-annual-data-science-bowl/download/validate.csv > /vol1/data/validate/validate.csv"
   ]
  }
 ],
 "metadata": {
  "kernelspec": {
   "display_name": "Python 2",
   "language": "python",
   "name": "python2"
  },
  "language_info": {
   "codemirror_mode": {
    "name": "ipython",
    "version": 2
   },
   "file_extension": ".py",
   "mimetype": "text/x-python",
   "name": "python",
   "nbconvert_exporter": "python",
   "pygments_lexer": "ipython2",
   "version": "2.7.11"
  }
 },
 "nbformat": 4,
 "nbformat_minor": 0
}

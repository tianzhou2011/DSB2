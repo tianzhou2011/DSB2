{
 "cells": [
  {
   "cell_type": "markdown",
   "metadata": {},
   "source": [
    "It looks like you can approximate the orientation of the patient: lying on back or side using the following code:\n",
    "\n",
    "```python\n",
    "avg_image_orientations = np.array([\n",
    "    0.61659826,  0.77685789, -0.12766521,\n",
    "    -0.39722351,  0.16699159, -0.90234914])\n",
    "image_orientation = np.array(d.ImageOrientationPatient)\n",
    "y = np.dot(image_orientation[:3], avg_image_orientations[:3])\n",
    "x = np.dot(image_orientation[:3], avg_image_orientations[3:])\n",
    "angle = np.arctan2(y, x) / np.pi * 180 - 75\n",
    "```\n",
    "\n",
    "`d` is a DICOM image.\n",
    "If you plot a histogram of the values you can see that the studies  divide into two groups and if you rotate the SAX images you see that indeed the LV appears to be in the same orientation in all images. I found that there are some variability inside a study.\n",
    "\n",
    "![heart orientation](./heart_orientation.png)"
   ]
  },
  {
   "cell_type": "markdown",
   "metadata": {},
   "source": [
    "Here are 120 studies after orientation\n",
    "\n",
    "![orientationed studies](./crop.png)"
   ]
  },
  {
   "cell_type": "markdown",
   "metadata": {},
   "source": [
    "Here is the code to compute the magical `avg_image_orientations` vector"
   ]
  },
  {
   "cell_type": "code",
   "execution_count": null,
   "metadata": {
    "collapsed": true
   },
   "outputs": [],
   "source": [
    "import numpy as np\n",
    "\n",
    "image_directions = []\n",
    "image_orientations = []\n",
    "for study in range(700):\n",
    "    # read SAX slice=0 t=0 from every study\n",
    "    img_fname = dicom_filename(study=study, s=0, t=0)\n",
    "    d = dicom.read_file(img_fname)\n",
    "    if d.PatientPosition != 'HFS':\n",
    "        print study,d.PatientPosition\n",
    "    image_orientations.append(d.ImageOrientationPatient)\n",
    "    image_direction = np.cross(d.ImageOrientationPatient[:3],d.ImageOrientationPatient[3:])\n",
    "    image_directions.append(image_direction)\n",
    "    \n",
    "image_directions = np.array(image_directions)\n",
    "avg_image_direction = image_directions.mean(axis=0)\n",
    "\n",
    "image_orientations = np.array(image_orientations)\n",
    "avg_image_orientations = image_orientations.mean(axis=0)\n",
    "avg_image_orientations[:3] /= np.sqrt(np.dot(avg_image_orientations[:3],avg_image_orientations[:3]))\n",
    "avg_image_orientations[3:] /= np.sqrt(np.dot(avg_image_orientations[3:],avg_image_orientations[3:]))\n",
    "avg_image_orientations[3:] = np.cross(np.cross(avg_image_orientations[:3],avg_image_orientations[3:]),avg_image_orientations[:3])"
   ]
  }
 ],
 "metadata": {
  "kernelspec": {
   "display_name": "Python 2",
   "language": "python",
   "name": "python2"
  },
  "language_info": {
   "codemirror_mode": {
    "name": "ipython",
    "version": 2
   },
   "file_extension": ".py",
   "mimetype": "text/x-python",
   "name": "python",
   "nbconvert_exporter": "python",
   "pygments_lexer": "ipython2",
   "version": "2.7.11"
  }
 },
 "nbformat": 4,
 "nbformat_minor": 0
}
